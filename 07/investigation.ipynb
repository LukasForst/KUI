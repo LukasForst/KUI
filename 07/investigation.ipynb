{
 "cells": [
  {
   "cell_type": "markdown",
   "id": "862dfa7a",
   "metadata": {},
   "source": [
    "# Investigation of binary classificator\n",
    "Lukas Forst"
   ]
  },
  {
   "cell_type": "markdown",
   "id": "80447451",
   "metadata": {},
   "source": [
    "Some links\n",
    "- https://stackoverflow.com/a/60352612/7169288\n"
   ]
  },
  {
   "cell_type": "code",
   "execution_count": 387,
   "id": "e3e3d924",
   "metadata": {},
   "outputs": [],
   "source": [
    "import numpy as np\n",
    "import pandas as pd\n",
    "import matplotlib.pyplot as plt\n",
    "import math\n",
    "from sklearn.metrics import confusion_matrix, recall_score, precision_score, accuracy_score, f1_score,roc_auc_score\n",
    "\n",
    "np.random.seed(123)\n",
    "\n",
    "%matplotlib inline"
   ]
  },
  {
   "cell_type": "code",
   "execution_count": 388,
   "id": "ab4cd896",
   "metadata": {},
   "outputs": [],
   "source": [
    "data_root = 'data'\n",
    "ground_truth_file = 'GT'\n",
    "c_names = np.array(['C1', 'C2', 'C3', 'C4', 'C5'])\n",
    "# data X[j]\n",
    "j = 100\n",
    "# number of alpha parameters\n",
    "k = 50\n",
    "# number of classificators\n",
    "i = 5"
   ]
  },
  {
   "cell_type": "code",
   "execution_count": 389,
   "id": "26694f03",
   "metadata": {},
   "outputs": [
    {
     "data": {
      "text/plain": [
       "(5, 100, 50)"
      ]
     },
     "execution_count": 389,
     "metadata": {},
     "output_type": "execute_result"
    }
   ],
   "source": [
    "c_data = np.array([\n",
    "    np.genfromtxt(f'{data_root}/{c}.dsv', delimiter=',',dtype=np.dtype('uint8'), encoding='utf-8')\n",
    "    for c in c_names\n",
    "])\n",
    "c_data.shape"
   ]
  },
  {
   "cell_type": "code",
   "execution_count": 390,
   "id": "c4ed3a13",
   "metadata": {},
   "outputs": [
    {
     "data": {
      "text/plain": [
       "(100,)"
      ]
     },
     "execution_count": 390,
     "metadata": {},
     "output_type": "execute_result"
    }
   ],
   "source": [
    "y = np.genfromtxt(f'{data_root}/{ground_truth_file}.dsv',dtype=np.dtype('uint8'), encoding='utf-8')\n",
    "y.shape"
   ]
  },
  {
   "cell_type": "code",
   "execution_count": 391,
   "id": "33b2a455",
   "metadata": {},
   "outputs": [
    {
     "data": {
      "text/plain": [
       "array([[92, 93, 92, 93, 93, 94, 94, 94, 96, 96, 96, 96, 96, 95, 95, 95,\n",
       "        95, 95, 95, 95, 96, 96, 97, 97, 97, 95, 90, 89, 86, 82, 80, 80,\n",
       "        77, 74, 71, 69, 65, 65, 63, 61, 59, 58, 58, 58, 56, 55, 54, 53,\n",
       "        52, 52],\n",
       "       [64, 64, 65, 66, 69, 74, 75, 77, 78, 78, 79, 79, 81, 81, 81, 82,\n",
       "        82, 83, 84, 85, 85, 86, 86, 86, 86, 86, 86, 86, 85, 86, 87, 87,\n",
       "        87, 85, 83, 81, 78, 76, 75, 73, 68, 65, 60, 57, 56, 54, 51, 51,\n",
       "        51, 50],\n",
       "       [52, 52, 52, 52, 53, 53, 53, 53, 53, 53, 53, 55, 56, 56, 56, 56,\n",
       "        56, 56, 56, 56, 56, 56, 56, 56, 57, 58, 58, 58, 59, 59, 60, 60,\n",
       "        60, 60, 61, 61, 61, 62, 62, 62, 62, 63, 63, 64, 67, 67, 67, 67,\n",
       "        68, 68],\n",
       "       [50, 50, 51, 51, 52, 53, 53, 56, 59, 64, 69, 73, 79, 80, 84, 84,\n",
       "        84, 83, 84, 84, 85, 85, 84, 83, 83, 81, 81, 81, 82, 81, 80, 81,\n",
       "        81, 81, 82, 83, 84, 84, 84, 84, 83, 83, 82, 83, 83, 83, 81, 79,\n",
       "        79, 77],\n",
       "       [63, 64, 67, 69, 71, 72, 73, 76, 78, 83, 85, 84, 87, 89, 89, 90,\n",
       "        91, 90, 88, 88, 84, 81, 78, 72, 67, 65, 58, 56, 54, 54, 52, 51,\n",
       "        51, 50, 50, 50, 50, 50, 50, 50, 50, 50, 50, 50, 50, 50, 50, 50,\n",
       "        50, 50]])"
      ]
     },
     "execution_count": 391,
     "metadata": {},
     "output_type": "execute_result"
    }
   ],
   "source": [
    "# performance -> when predicted match the label\n",
    "np.array([np.array([np.count_nonzero(c_data[c, :, alpha] == y) for alpha in range(k)]) for c in range(i)])"
   ]
  },
  {
   "cell_type": "code",
   "execution_count": 392,
   "id": "3efa25d7",
   "metadata": {},
   "outputs": [],
   "source": [
    "def binary_classification_performance(data, y_true, c, c_names, a):\n",
    "    y_pred = data[c, :, a]\n",
    "    \n",
    "    tn, fp, fn, tp = confusion_matrix(y_true = y_true, y_pred = y_pred).ravel()\n",
    "    accuracy = accuracy_score(y_true = y_true, y_pred = y_pred)\n",
    "    precision = precision_score(y_true = y_true, y_pred = y_pred, zero_division = 0)\n",
    "    recall = recall_score(y_true = y_true, y_pred = y_pred, zero_division = 0)\n",
    "    f1_score = (2 * precision * recall / (precision + recall)) if precision + recall != 0 else math.nan\n",
    "\n",
    "    specificity = tn / (tn + fp)\n",
    "    npv = tn / (tn + fn)\n",
    "    auc_roc = roc_auc_score(y_true = y_true, y_score = y_pred)\n",
    "\n",
    "    result = pd.DataFrame({\n",
    "        'Alpha': [a],\n",
    "        'Classificator': [c_names[c]],\n",
    "        'Accuracy' : [accuracy],\n",
    "        'Precision/PPV' : [precision],\n",
    "        'Recall/Senitivity/TPR' : [recall],\n",
    "        'F1 Score' : [f1_score],\n",
    "        'AUC_ROC' : [auc_roc],\n",
    "        'Specificty/TNR': [specificity],\n",
    "        'NPV' : [npv],\n",
    "        'True Positive' : [tp],\n",
    "        'True Negative' : [tn],\n",
    "        'False Positive':[fp],\n",
    "        'False Negative':[fn]})\n",
    "    return result"
   ]
  },
  {
   "cell_type": "code",
   "execution_count": 393,
   "id": "5d8bceb2",
   "metadata": {},
   "outputs": [
    {
     "data": {
      "text/html": [
       "<div>\n",
       "<style scoped>\n",
       "    .dataframe tbody tr th:only-of-type {\n",
       "        vertical-align: middle;\n",
       "    }\n",
       "\n",
       "    .dataframe tbody tr th {\n",
       "        vertical-align: top;\n",
       "    }\n",
       "\n",
       "    .dataframe thead th {\n",
       "        text-align: right;\n",
       "    }\n",
       "</style>\n",
       "<table border=\"1\" class=\"dataframe\">\n",
       "  <thead>\n",
       "    <tr style=\"text-align: right;\">\n",
       "      <th></th>\n",
       "      <th></th>\n",
       "      <th>Accuracy</th>\n",
       "      <th>Precision/PPV</th>\n",
       "      <th>Recall/Senitivity/TPR</th>\n",
       "      <th>F1 Score</th>\n",
       "      <th>AUC_ROC</th>\n",
       "      <th>Specificty/TNR</th>\n",
       "      <th>NPV</th>\n",
       "      <th>True Positive</th>\n",
       "      <th>True Negative</th>\n",
       "      <th>False Positive</th>\n",
       "      <th>False Negative</th>\n",
       "    </tr>\n",
       "    <tr>\n",
       "      <th>Classificator</th>\n",
       "      <th>Alpha</th>\n",
       "      <th></th>\n",
       "      <th></th>\n",
       "      <th></th>\n",
       "      <th></th>\n",
       "      <th></th>\n",
       "      <th></th>\n",
       "      <th></th>\n",
       "      <th></th>\n",
       "      <th></th>\n",
       "      <th></th>\n",
       "      <th></th>\n",
       "    </tr>\n",
       "  </thead>\n",
       "  <tbody>\n",
       "    <tr>\n",
       "      <th>C1</th>\n",
       "      <th>0</th>\n",
       "      <td>0.92</td>\n",
       "      <td>0.862069</td>\n",
       "      <td>1.0</td>\n",
       "      <td>0.925926</td>\n",
       "      <td>0.92</td>\n",
       "      <td>0.84</td>\n",
       "      <td>1.0</td>\n",
       "      <td>50</td>\n",
       "      <td>42</td>\n",
       "      <td>8</td>\n",
       "      <td>0</td>\n",
       "    </tr>\n",
       "    <tr>\n",
       "      <th>C2</th>\n",
       "      <th>0</th>\n",
       "      <td>0.64</td>\n",
       "      <td>0.581395</td>\n",
       "      <td>1.0</td>\n",
       "      <td>0.735294</td>\n",
       "      <td>0.64</td>\n",
       "      <td>0.28</td>\n",
       "      <td>1.0</td>\n",
       "      <td>50</td>\n",
       "      <td>14</td>\n",
       "      <td>36</td>\n",
       "      <td>0</td>\n",
       "    </tr>\n",
       "    <tr>\n",
       "      <th>C3</th>\n",
       "      <th>0</th>\n",
       "      <td>0.52</td>\n",
       "      <td>0.510204</td>\n",
       "      <td>1.0</td>\n",
       "      <td>0.675676</td>\n",
       "      <td>0.52</td>\n",
       "      <td>0.04</td>\n",
       "      <td>1.0</td>\n",
       "      <td>50</td>\n",
       "      <td>2</td>\n",
       "      <td>48</td>\n",
       "      <td>0</td>\n",
       "    </tr>\n",
       "    <tr>\n",
       "      <th>C4</th>\n",
       "      <th>0</th>\n",
       "      <td>0.50</td>\n",
       "      <td>0.000000</td>\n",
       "      <td>0.0</td>\n",
       "      <td>NaN</td>\n",
       "      <td>0.50</td>\n",
       "      <td>1.00</td>\n",
       "      <td>0.5</td>\n",
       "      <td>0</td>\n",
       "      <td>50</td>\n",
       "      <td>0</td>\n",
       "      <td>50</td>\n",
       "    </tr>\n",
       "    <tr>\n",
       "      <th>C5</th>\n",
       "      <th>0</th>\n",
       "      <td>0.63</td>\n",
       "      <td>0.574713</td>\n",
       "      <td>1.0</td>\n",
       "      <td>0.729927</td>\n",
       "      <td>0.63</td>\n",
       "      <td>0.26</td>\n",
       "      <td>1.0</td>\n",
       "      <td>50</td>\n",
       "      <td>13</td>\n",
       "      <td>37</td>\n",
       "      <td>0</td>\n",
       "    </tr>\n",
       "  </tbody>\n",
       "</table>\n",
       "</div>"
      ],
      "text/plain": [
       "                     Accuracy  Precision/PPV  Recall/Senitivity/TPR  F1 Score  \\\n",
       "Classificator Alpha                                                             \n",
       "C1            0          0.92       0.862069                    1.0  0.925926   \n",
       "C2            0          0.64       0.581395                    1.0  0.735294   \n",
       "C3            0          0.52       0.510204                    1.0  0.675676   \n",
       "C4            0          0.50       0.000000                    0.0       NaN   \n",
       "C5            0          0.63       0.574713                    1.0  0.729927   \n",
       "\n",
       "                     AUC_ROC  Specificty/TNR  NPV  True Positive  \\\n",
       "Classificator Alpha                                                \n",
       "C1            0         0.92            0.84  1.0             50   \n",
       "C2            0         0.64            0.28  1.0             50   \n",
       "C3            0         0.52            0.04  1.0             50   \n",
       "C4            0         0.50            1.00  0.5              0   \n",
       "C5            0         0.63            0.26  1.0             50   \n",
       "\n",
       "                     True Negative  False Positive  False Negative  \n",
       "Classificator Alpha                                                 \n",
       "C1            0                 42               8               0  \n",
       "C2            0                 14              36               0  \n",
       "C3            0                  2              48               0  \n",
       "C4            0                 50               0              50  \n",
       "C5            0                 13              37               0  "
      ]
     },
     "execution_count": 393,
     "metadata": {},
     "output_type": "execute_result"
    }
   ],
   "source": [
    "pds = [binary_classification_performance(c_data, y, c, c_names, a) for a in range(k) for c in range(i)]\n",
    "df = pd.concat(pds)\n",
    "df = df.set_index(['Classificator', 'Alpha'], inplace=False)\n",
    "df.head()"
   ]
  },
  {
   "cell_type": "code",
   "execution_count": 408,
   "id": "39dd6e57",
   "metadata": {},
   "outputs": [
    {
     "data": {
      "image/png": "[encoded data removed]",
      "text/plain": [
       "<Figure size 1152x720 with 1 Axes>"
      ]
     },
     "metadata": {
      "needs_background": "light"
     },
     "output_type": "display_data"
    }
   ],
   "source": [
    "c1 = df.loc['C1']\n",
    "c1sb = c1.plot(\n",
    "    y=['Accuracy', 'Precision/PPV', 'Recall/Senitivity/TPR'], \n",
    "    figsize=(16,10),\n",
    "    ylabel='Value',\n",
    "    xlabel='Alpha',\n",
    "    title='C1'\n",
    ")"
   ]
  },
  {
   "cell_type": "code",
   "execution_count": 395,
   "id": "fc8243a9",
   "metadata": {},
   "outputs": [
    {
     "data": {
      "text/plain": [
       "<Figure size 432x288 with 0 Axes>"
      ]
     },
     "metadata": {},
     "output_type": "display_data"
    },
    {
     "data": {
      "image/png": "[encoded data removed]",
      "text/plain": [
       "<Figure size 432x288 with 1 Axes>"
      ]
     },
     "metadata": {
      "needs_background": "light"
     },
     "output_type": "display_data"
    }
   ],
   "source": [
    "roc = df.loc['C4'][['Precision/PPV', 'Accuracy']]\n",
    "plt.figure();\n",
    "roc.plot();"
   ]
  },
  {
   "cell_type": "code",
   "execution_count": 396,
   "id": "7aa2b5c8",
   "metadata": {},
   "outputs": [
    {
     "data": {
      "text/plain": [
       "<AxesSubplot:xlabel='Alpha', ylabel='Value'>"
      ]
     },
     "execution_count": 396,
     "metadata": {},
     "output_type": "execute_result"
    },
    {
     "data": {
      "text/plain": [
       "<Figure size 432x288 with 0 Axes>"
      ]
     },
     "metadata": {},
     "output_type": "display_data"
    },
    {
     "data": {
      "image/png": "[encoded data removed]",
      "text/plain": [
       "<Figure size 432x288 with 1 Axes>"
      ]
     },
     "metadata": {
      "needs_background": "light"
     },
     "output_type": "display_data"
    }
   ],
   "source": [
    "c1 = df.loc['C1']\n",
    "plt.figure()\n",
    "c1.plot(y=['Accuracy', 'NPV'], ylabel='Value', xlabel='Alpha')"
   ]
  },
  {
   "cell_type": "code",
   "execution_count": 397,
   "id": "41e6c57b",
   "metadata": {},
   "outputs": [
    {
     "data": {
      "text/html": [
       "<div>\n",
       "<style scoped>\n",
       "    .dataframe tbody tr th:only-of-type {\n",
       "        vertical-align: middle;\n",
       "    }\n",
       "\n",
       "    .dataframe tbody tr th {\n",
       "        vertical-align: top;\n",
       "    }\n",
       "\n",
       "    .dataframe thead th {\n",
       "        text-align: right;\n",
       "    }\n",
       "</style>\n",
       "<table border=\"1\" class=\"dataframe\">\n",
       "  <thead>\n",
       "    <tr style=\"text-align: right;\">\n",
       "      <th></th>\n",
       "      <th></th>\n",
       "      <th>Accuracy</th>\n",
       "      <th>Precision/PPV</th>\n",
       "      <th>Recall/Senitivity/TPR</th>\n",
       "      <th>F1 Score</th>\n",
       "      <th>AUC_ROC</th>\n",
       "      <th>Specificty/TNR</th>\n",
       "      <th>NPV</th>\n",
       "      <th>True Positive</th>\n",
       "      <th>True Negative</th>\n",
       "      <th>False Positive</th>\n",
       "      <th>False Negative</th>\n",
       "    </tr>\n",
       "    <tr>\n",
       "      <th>Classificator</th>\n",
       "      <th>Alpha</th>\n",
       "      <th></th>\n",
       "      <th></th>\n",
       "      <th></th>\n",
       "      <th></th>\n",
       "      <th></th>\n",
       "      <th></th>\n",
       "      <th></th>\n",
       "      <th></th>\n",
       "      <th></th>\n",
       "      <th></th>\n",
       "      <th></th>\n",
       "    </tr>\n",
       "  </thead>\n",
       "  <tbody>\n",
       "    <tr>\n",
       "      <th>C4</th>\n",
       "      <th>11</th>\n",
       "      <td>0.73</td>\n",
       "      <td>1.0</td>\n",
       "      <td>0.46</td>\n",
       "      <td>0.630137</td>\n",
       "      <td>0.73</td>\n",
       "      <td>1.0</td>\n",
       "      <td>0.649351</td>\n",
       "      <td>23</td>\n",
       "      <td>50</td>\n",
       "      <td>0</td>\n",
       "      <td>27</td>\n",
       "    </tr>\n",
       "  </tbody>\n",
       "</table>\n",
       "</div>"
      ],
      "text/plain": [
       "                     Accuracy  Precision/PPV  Recall/Senitivity/TPR  F1 Score  \\\n",
       "Classificator Alpha                                                             \n",
       "C4            11         0.73            1.0                   0.46  0.630137   \n",
       "\n",
       "                     AUC_ROC  Specificty/TNR       NPV  True Positive  \\\n",
       "Classificator Alpha                                                     \n",
       "C4            11        0.73             1.0  0.649351             23   \n",
       "\n",
       "                     True Negative  False Positive  False Negative  \n",
       "Classificator Alpha                                                 \n",
       "C4            11                50               0              27  "
      ]
     },
     "execution_count": 397,
     "metadata": {},
     "output_type": "execute_result"
    }
   ],
   "source": [
    "# solution for the most secure thingy\n",
    "no_fn = df[df['False Positive'] == df['False Positive'].min()]\n",
    "no_fn[no_fn['Accuracy'] == no_fn['Accuracy'].max()]"
   ]
  },
  {
   "cell_type": "code",
   "execution_count": 398,
   "id": "39f70905",
   "metadata": {},
   "outputs": [
    {
     "data": {
      "text/html": [
       "<div>\n",
       "<style scoped>\n",
       "    .dataframe tbody tr th:only-of-type {\n",
       "        vertical-align: middle;\n",
       "    }\n",
       "\n",
       "    .dataframe tbody tr th {\n",
       "        vertical-align: top;\n",
       "    }\n",
       "\n",
       "    .dataframe thead th {\n",
       "        text-align: right;\n",
       "    }\n",
       "</style>\n",
       "<table border=\"1\" class=\"dataframe\">\n",
       "  <thead>\n",
       "    <tr style=\"text-align: right;\">\n",
       "      <th></th>\n",
       "      <th></th>\n",
       "      <th>Accuracy</th>\n",
       "      <th>Precision/PPV</th>\n",
       "      <th>Recall/Senitivity/TPR</th>\n",
       "      <th>F1 Score</th>\n",
       "      <th>AUC_ROC</th>\n",
       "      <th>Specificty/TNR</th>\n",
       "      <th>NPV</th>\n",
       "      <th>True Positive</th>\n",
       "      <th>True Negative</th>\n",
       "      <th>False Positive</th>\n",
       "      <th>False Negative</th>\n",
       "    </tr>\n",
       "    <tr>\n",
       "      <th>Classificator</th>\n",
       "      <th>Alpha</th>\n",
       "      <th></th>\n",
       "      <th></th>\n",
       "      <th></th>\n",
       "      <th></th>\n",
       "      <th></th>\n",
       "      <th></th>\n",
       "      <th></th>\n",
       "      <th></th>\n",
       "      <th></th>\n",
       "      <th></th>\n",
       "      <th></th>\n",
       "    </tr>\n",
       "  </thead>\n",
       "  <tbody>\n",
       "    <tr>\n",
       "      <th rowspan=\"3\" valign=\"top\">C1</th>\n",
       "      <th>22</th>\n",
       "      <td>0.97</td>\n",
       "      <td>0.979592</td>\n",
       "      <td>0.96</td>\n",
       "      <td>0.969697</td>\n",
       "      <td>0.97</td>\n",
       "      <td>0.98</td>\n",
       "      <td>0.960784</td>\n",
       "      <td>48</td>\n",
       "      <td>49</td>\n",
       "      <td>1</td>\n",
       "      <td>2</td>\n",
       "    </tr>\n",
       "    <tr>\n",
       "      <th>23</th>\n",
       "      <td>0.97</td>\n",
       "      <td>0.979592</td>\n",
       "      <td>0.96</td>\n",
       "      <td>0.969697</td>\n",
       "      <td>0.97</td>\n",
       "      <td>0.98</td>\n",
       "      <td>0.960784</td>\n",
       "      <td>48</td>\n",
       "      <td>49</td>\n",
       "      <td>1</td>\n",
       "      <td>2</td>\n",
       "    </tr>\n",
       "    <tr>\n",
       "      <th>24</th>\n",
       "      <td>0.97</td>\n",
       "      <td>0.979592</td>\n",
       "      <td>0.96</td>\n",
       "      <td>0.969697</td>\n",
       "      <td>0.97</td>\n",
       "      <td>0.98</td>\n",
       "      <td>0.960784</td>\n",
       "      <td>48</td>\n",
       "      <td>49</td>\n",
       "      <td>1</td>\n",
       "      <td>2</td>\n",
       "    </tr>\n",
       "  </tbody>\n",
       "</table>\n",
       "</div>"
      ],
      "text/plain": [
       "                     Accuracy  Precision/PPV  Recall/Senitivity/TPR  F1 Score  \\\n",
       "Classificator Alpha                                                             \n",
       "C1            22         0.97       0.979592                   0.96  0.969697   \n",
       "              23         0.97       0.979592                   0.96  0.969697   \n",
       "              24         0.97       0.979592                   0.96  0.969697   \n",
       "\n",
       "                     AUC_ROC  Specificty/TNR       NPV  True Positive  \\\n",
       "Classificator Alpha                                                     \n",
       "C1            22        0.97            0.98  0.960784             48   \n",
       "              23        0.97            0.98  0.960784             48   \n",
       "              24        0.97            0.98  0.960784             48   \n",
       "\n",
       "                     True Negative  False Positive  False Negative  \n",
       "Classificator Alpha                                                 \n",
       "C1            22                49               1               2  \n",
       "              23                49               1               2  \n",
       "              24                49               1               2  "
      ]
     },
     "execution_count": 398,
     "metadata": {},
     "output_type": "execute_result"
    }
   ],
   "source": [
    "df[df.Accuracy == df.Accuracy.max()]"
   ]
  },
  {
   "cell_type": "code",
   "execution_count": 399,
   "id": "bd2c925f",
   "metadata": {},
   "outputs": [
    {
     "name": "stdout",
     "output_type": "stream",
     "text": [
      "Accuracy: 0.97\n",
      "TP 48\n",
      "TN 49\n",
      "FP 1\n",
      "FN 2\n"
     ]
    }
   ],
   "source": [
    "c, a = 0, 22\n",
    "print(f'Accuracy: {np.count_nonzero(c_data[c, :, a] == y) / len(y)}')\n",
    "t_p = np.count_nonzero((c_data[c, :, a] == 1) & (y == 1))\n",
    "t_n = np.count_nonzero((c_data[c, :, a] == 0) & (y == 0))\n",
    "f_p = np.count_nonzero((c_data[c, :, a] == 1) & (y == 0))\n",
    "f_n = np.count_nonzero((c_data[c, :, a] == 0) & (y == 1))\n",
    "print(f'TP {t_p}\\nTN {t_n}\\nFP {f_p}\\nFN {f_n}')"
   ]
  },
  {
   "cell_type": "code",
   "execution_count": 400,
   "id": "5dd04444",
   "metadata": {},
   "outputs": [
    {
     "data": {
      "text/plain": [
       "97"
      ]
     },
     "execution_count": 400,
     "metadata": {},
     "output_type": "execute_result"
    }
   ],
   "source": [
    "np.count_nonzero(c_data[c, :, a] == y)"
   ]
  },
  {
   "cell_type": "code",
   "execution_count": 401,
   "id": "ea2c3d46",
   "metadata": {},
   "outputs": [
    {
     "data": {
      "text/plain": [
       "(5, 50, 4)"
      ]
     },
     "execution_count": 401,
     "metadata": {},
     "output_type": "execute_result"
    }
   ],
   "source": [
    "matricies = np.array([np.array([confusion_matrix(c_data[c, :, a], y).ravel() for a in range(k)]) for c in range(i)])\n",
    "matricies.shape"
   ]
  },
  {
   "cell_type": "code",
   "execution_count": null,
   "id": "dc874061",
   "metadata": {},
   "outputs": [],
   "source": [
    "accuracy = round(accuracy_score(y_pred = y_pred, y_true = y_test),2)\n",
    "precision = round(precision_score(y_pred = y_pred, y_true = y_test),2)\n",
    "recall = round(recall_score(y_pred = y_pred, y_true = y_test),2)\n",
    "f1_score = round(2*precision*recall/(precision + recall),2)\n",
    "specificity = round(tn/(tn+fp),2)\n",
    "npv = round(tn/(tn+fn),2)\n",
    "auc_roc = round(roc_auc_score(y_score = y_pred, y_true = y_test),2)"
   ]
  }
 ],
 "metadata": {
  "kernelspec": {
   "display_name": "Python 3",
   "language": "python",
   "name": "python3"
  },
  "language_info": {
   "codemirror_mode": {
    "name": "ipython",
    "version": 3
   },
   "file_extension": ".py",
   "mimetype": "text/x-python",
   "name": "python",
   "nbconvert_exporter": "python",
   "pygments_lexer": "ipython3",
   "version": "3.9.4"
  }
 },
 "nbformat": 4,
 "nbformat_minor": 5
}
