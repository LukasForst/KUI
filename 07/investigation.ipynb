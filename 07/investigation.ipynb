{
 "cells": [
  {
   "cell_type": "markdown",
   "id": "ee118998",
   "metadata": {},
   "source": [
    "# Investigation of binary classificator\n",
    "Lukas Forst"
   ]
  },
  {
   "cell_type": "markdown",
   "id": "94915542",
   "metadata": {},
   "source": [
    "First we need to prepare some usefull python code and do some data exploration to see what is going on."
   ]
  },
  {
   "cell_type": "code",
   "execution_count": 1,
   "id": "eb57cce0",
   "metadata": {},
   "outputs": [],
   "source": [
    "import numpy as np\n",
    "import pandas as pd\n",
    "import matplotlib.pyplot as plt\n",
    "import math\n",
    "from sklearn.metrics import confusion_matrix, recall_score, precision_score, accuracy_score, f1_score,roc_auc_score\n",
    "\n",
    "np.random.seed(123)\n",
    "\n",
    "%matplotlib inline"
   ]
  },
  {
   "cell_type": "code",
   "execution_count": 2,
   "id": "436c940f",
   "metadata": {},
   "outputs": [],
   "source": [
    "data_root = 'data'\n",
    "ground_truth_file = 'GT'\n",
    "c_names = np.array(['C1', 'C2', 'C3', 'C4', 'C5'])\n",
    "# data X[j]\n",
    "j = 100\n",
    "# number of alpha parameters\n",
    "k = 50\n",
    "# number of classificators\n",
    "i = 5"
   ]
  },
  {
   "cell_type": "code",
   "execution_count": 4,
   "id": "29e1df18",
   "metadata": {},
   "outputs": [
    {
     "data": {
      "text/plain": [
       "(5, 100, 50)"
      ]
     },
     "execution_count": 4,
     "metadata": {},
     "output_type": "execute_result"
    }
   ],
   "source": [
    "c_data = np.array([\n",
    "    np.genfromtxt(f'{data_root}/{c}.dsv', delimiter=',',dtype=np.dtype('uint8'), encoding='utf-8')\n",
    "    for c in c_names\n",
    "])\n",
    "c_data.shape"
   ]
  },
  {
   "cell_type": "code",
   "execution_count": 5,
   "id": "cd6bbe9f",
   "metadata": {},
   "outputs": [
    {
     "data": {
      "text/plain": [
       "(100,)"
      ]
     },
     "execution_count": 5,
     "metadata": {},
     "output_type": "execute_result"
    }
   ],
   "source": [
    "y = np.genfromtxt(f'{data_root}/{ground_truth_file}.dsv',dtype=np.dtype('uint8'), encoding='utf-8')\n",
    "y.shape"
   ]
  },
  {
   "cell_type": "code",
   "execution_count": 6,
   "id": "070a874b",
   "metadata": {},
   "outputs": [],
   "source": [
    "def binary_classification_performance(data, y_true, c, c_names, a):\n",
    "    y_pred = data[c, :, a]\n",
    "    \n",
    "    tn, fp, fn, tp = confusion_matrix(y_true = y_true, y_pred = y_pred).ravel()\n",
    "    accuracy = accuracy_score(y_true = y_true, y_pred = y_pred)\n",
    "    precision = precision_score(y_true = y_true, y_pred = y_pred, zero_division = 0)\n",
    "    recall = recall_score(y_true = y_true, y_pred = y_pred, zero_division = 0)\n",
    "    f1_score = (2 * precision * recall / (precision + recall)) if precision + recall != 0 else math.nan\n",
    "\n",
    "    specificity = tn / (tn + fp)\n",
    "    npv = tn / (tn + fn)\n",
    "    auc_roc = roc_auc_score(y_true = y_true, y_score = y_pred)\n",
    "\n",
    "    result = pd.DataFrame({\n",
    "        'Alpha': [a],\n",
    "        'Classificator': [c_names[c]],\n",
    "        'Accuracy' : [accuracy],\n",
    "        'Precision/PPV' : [precision],\n",
    "        'Recall/Senitivity/TPR' : [recall],\n",
    "        'F1 Score' : [f1_score],\n",
    "        'AUC_ROC' : [auc_roc],\n",
    "        'Specificty/TNR': [specificity],\n",
    "        'NPV' : [npv],\n",
    "        'True Positive' : [tp],\n",
    "        'True Negative' : [tn],\n",
    "        'False Positive':[fp],\n",
    "        'False Negative':[fn]})\n",
    "    return result"
   ]
  },
  {
   "cell_type": "code",
   "execution_count": 7,
   "id": "59602f25",
   "metadata": {},
   "outputs": [
    {
     "data": {
      "text/html": [
       "<div>\n",
       "<style scoped>\n",
       "    .dataframe tbody tr th:only-of-type {\n",
       "        vertical-align: middle;\n",
       "    }\n",
       "\n",
       "    .dataframe tbody tr th {\n",
       "        vertical-align: top;\n",
       "    }\n",
       "\n",
       "    .dataframe thead th {\n",
       "        text-align: right;\n",
       "    }\n",
       "</style>\n",
       "<table border=\"1\" class=\"dataframe\">\n",
       "  <thead>\n",
       "    <tr style=\"text-align: right;\">\n",
       "      <th></th>\n",
       "      <th></th>\n",
       "      <th>Accuracy</th>\n",
       "      <th>Precision/PPV</th>\n",
       "      <th>Recall/Senitivity/TPR</th>\n",
       "      <th>F1 Score</th>\n",
       "      <th>AUC_ROC</th>\n",
       "      <th>Specificty/TNR</th>\n",
       "      <th>NPV</th>\n",
       "      <th>True Positive</th>\n",
       "      <th>True Negative</th>\n",
       "      <th>False Positive</th>\n",
       "      <th>False Negative</th>\n",
       "    </tr>\n",
       "    <tr>\n",
       "      <th>Classificator</th>\n",
       "      <th>Alpha</th>\n",
       "      <th></th>\n",
       "      <th></th>\n",
       "      <th></th>\n",
       "      <th></th>\n",
       "      <th></th>\n",
       "      <th></th>\n",
       "      <th></th>\n",
       "      <th></th>\n",
       "      <th></th>\n",
       "      <th></th>\n",
       "      <th></th>\n",
       "    </tr>\n",
       "  </thead>\n",
       "  <tbody>\n",
       "    <tr>\n",
       "      <th>C1</th>\n",
       "      <th>0</th>\n",
       "      <td>0.92</td>\n",
       "      <td>0.862069</td>\n",
       "      <td>1.0</td>\n",
       "      <td>0.925926</td>\n",
       "      <td>0.92</td>\n",
       "      <td>0.84</td>\n",
       "      <td>1.0</td>\n",
       "      <td>50</td>\n",
       "      <td>42</td>\n",
       "      <td>8</td>\n",
       "      <td>0</td>\n",
       "    </tr>\n",
       "    <tr>\n",
       "      <th>C2</th>\n",
       "      <th>0</th>\n",
       "      <td>0.64</td>\n",
       "      <td>0.581395</td>\n",
       "      <td>1.0</td>\n",
       "      <td>0.735294</td>\n",
       "      <td>0.64</td>\n",
       "      <td>0.28</td>\n",
       "      <td>1.0</td>\n",
       "      <td>50</td>\n",
       "      <td>14</td>\n",
       "      <td>36</td>\n",
       "      <td>0</td>\n",
       "    </tr>\n",
       "    <tr>\n",
       "      <th>C3</th>\n",
       "      <th>0</th>\n",
       "      <td>0.52</td>\n",
       "      <td>0.510204</td>\n",
       "      <td>1.0</td>\n",
       "      <td>0.675676</td>\n",
       "      <td>0.52</td>\n",
       "      <td>0.04</td>\n",
       "      <td>1.0</td>\n",
       "      <td>50</td>\n",
       "      <td>2</td>\n",
       "      <td>48</td>\n",
       "      <td>0</td>\n",
       "    </tr>\n",
       "    <tr>\n",
       "      <th>C4</th>\n",
       "      <th>0</th>\n",
       "      <td>0.50</td>\n",
       "      <td>0.000000</td>\n",
       "      <td>0.0</td>\n",
       "      <td>NaN</td>\n",
       "      <td>0.50</td>\n",
       "      <td>1.00</td>\n",
       "      <td>0.5</td>\n",
       "      <td>0</td>\n",
       "      <td>50</td>\n",
       "      <td>0</td>\n",
       "      <td>50</td>\n",
       "    </tr>\n",
       "    <tr>\n",
       "      <th>C5</th>\n",
       "      <th>0</th>\n",
       "      <td>0.63</td>\n",
       "      <td>0.574713</td>\n",
       "      <td>1.0</td>\n",
       "      <td>0.729927</td>\n",
       "      <td>0.63</td>\n",
       "      <td>0.26</td>\n",
       "      <td>1.0</td>\n",
       "      <td>50</td>\n",
       "      <td>13</td>\n",
       "      <td>37</td>\n",
       "      <td>0</td>\n",
       "    </tr>\n",
       "  </tbody>\n",
       "</table>\n",
       "</div>"
      ],
      "text/plain": [
       "                     Accuracy  Precision/PPV  Recall/Senitivity/TPR  F1 Score  \\\n",
       "Classificator Alpha                                                             \n",
       "C1            0          0.92       0.862069                    1.0  0.925926   \n",
       "C2            0          0.64       0.581395                    1.0  0.735294   \n",
       "C3            0          0.52       0.510204                    1.0  0.675676   \n",
       "C4            0          0.50       0.000000                    0.0       NaN   \n",
       "C5            0          0.63       0.574713                    1.0  0.729927   \n",
       "\n",
       "                     AUC_ROC  Specificty/TNR  NPV  True Positive  \\\n",
       "Classificator Alpha                                                \n",
       "C1            0         0.92            0.84  1.0             50   \n",
       "C2            0         0.64            0.28  1.0             50   \n",
       "C3            0         0.52            0.04  1.0             50   \n",
       "C4            0         0.50            1.00  0.5              0   \n",
       "C5            0         0.63            0.26  1.0             50   \n",
       "\n",
       "                     True Negative  False Positive  False Negative  \n",
       "Classificator Alpha                                                 \n",
       "C1            0                 42               8               0  \n",
       "C2            0                 14              36               0  \n",
       "C3            0                  2              48               0  \n",
       "C4            0                 50               0              50  \n",
       "C5            0                 13              37               0  "
      ]
     },
     "execution_count": 7,
     "metadata": {},
     "output_type": "execute_result"
    }
   ],
   "source": [
    "pds = [binary_classification_performance(c_data, y, c, c_names, a) for a in range(k) for c in range(i)]\n",
    "df = pd.concat(pds)\n",
    "df = df.set_index(['Classificator', 'Alpha'], inplace=False)\n",
    "df.head()"
   ]
  },
  {
   "cell_type": "markdown",
   "id": "d176a0bd",
   "metadata": {},
   "source": [
    "## Selection of optimal parameter\n",
    "We're looking for an optimal alpha parameter for classifier \"C1\" without context."
   ]
  },
  {
   "cell_type": "code",
   "execution_count": 8,
   "id": "d6095f00",
   "metadata": {},
   "outputs": [],
   "source": [
    "# select data just for a C1\n",
    "c1 = df.loc['C1']"
   ]
  },
  {
   "cell_type": "markdown",
   "id": "516709fa",
   "metadata": {},
   "source": [
    "### Accuracy\n",
    "We're now looking for as many correct classifications as possible and we don't have prefference whether False Negative or False Positive is better or worse"
   ]
  },
  {
   "cell_type": "code",
   "execution_count": 9,
   "id": "70b296d8",
   "metadata": {},
   "outputs": [
    {
     "data": {
      "text/html": [
       "<div>\n",
       "<style scoped>\n",
       "    .dataframe tbody tr th:only-of-type {\n",
       "        vertical-align: middle;\n",
       "    }\n",
       "\n",
       "    .dataframe tbody tr th {\n",
       "        vertical-align: top;\n",
       "    }\n",
       "\n",
       "    .dataframe thead th {\n",
       "        text-align: right;\n",
       "    }\n",
       "</style>\n",
       "<table border=\"1\" class=\"dataframe\">\n",
       "  <thead>\n",
       "    <tr style=\"text-align: right;\">\n",
       "      <th></th>\n",
       "      <th>Accuracy</th>\n",
       "      <th>Precision/PPV</th>\n",
       "      <th>Recall/Senitivity/TPR</th>\n",
       "      <th>F1 Score</th>\n",
       "      <th>AUC_ROC</th>\n",
       "      <th>Specificty/TNR</th>\n",
       "      <th>NPV</th>\n",
       "      <th>True Positive</th>\n",
       "      <th>True Negative</th>\n",
       "      <th>False Positive</th>\n",
       "      <th>False Negative</th>\n",
       "    </tr>\n",
       "    <tr>\n",
       "      <th>Alpha</th>\n",
       "      <th></th>\n",
       "      <th></th>\n",
       "      <th></th>\n",
       "      <th></th>\n",
       "      <th></th>\n",
       "      <th></th>\n",
       "      <th></th>\n",
       "      <th></th>\n",
       "      <th></th>\n",
       "      <th></th>\n",
       "      <th></th>\n",
       "    </tr>\n",
       "  </thead>\n",
       "  <tbody>\n",
       "    <tr>\n",
       "      <th>22</th>\n",
       "      <td>0.97</td>\n",
       "      <td>0.979592</td>\n",
       "      <td>0.96</td>\n",
       "      <td>0.969697</td>\n",
       "      <td>0.97</td>\n",
       "      <td>0.98</td>\n",
       "      <td>0.960784</td>\n",
       "      <td>48</td>\n",
       "      <td>49</td>\n",
       "      <td>1</td>\n",
       "      <td>2</td>\n",
       "    </tr>\n",
       "    <tr>\n",
       "      <th>23</th>\n",
       "      <td>0.97</td>\n",
       "      <td>0.979592</td>\n",
       "      <td>0.96</td>\n",
       "      <td>0.969697</td>\n",
       "      <td>0.97</td>\n",
       "      <td>0.98</td>\n",
       "      <td>0.960784</td>\n",
       "      <td>48</td>\n",
       "      <td>49</td>\n",
       "      <td>1</td>\n",
       "      <td>2</td>\n",
       "    </tr>\n",
       "    <tr>\n",
       "      <th>24</th>\n",
       "      <td>0.97</td>\n",
       "      <td>0.979592</td>\n",
       "      <td>0.96</td>\n",
       "      <td>0.969697</td>\n",
       "      <td>0.97</td>\n",
       "      <td>0.98</td>\n",
       "      <td>0.960784</td>\n",
       "      <td>48</td>\n",
       "      <td>49</td>\n",
       "      <td>1</td>\n",
       "      <td>2</td>\n",
       "    </tr>\n",
       "  </tbody>\n",
       "</table>\n",
       "</div>"
      ],
      "text/plain": [
       "       Accuracy  Precision/PPV  Recall/Senitivity/TPR  F1 Score  AUC_ROC  \\\n",
       "Alpha                                                                      \n",
       "22         0.97       0.979592                   0.96  0.969697     0.97   \n",
       "23         0.97       0.979592                   0.96  0.969697     0.97   \n",
       "24         0.97       0.979592                   0.96  0.969697     0.97   \n",
       "\n",
       "       Specificty/TNR       NPV  True Positive  True Negative  False Positive  \\\n",
       "Alpha                                                                           \n",
       "22               0.98  0.960784             48             49               1   \n",
       "23               0.98  0.960784             48             49               1   \n",
       "24               0.98  0.960784             48             49               1   \n",
       "\n",
       "       False Negative  \n",
       "Alpha                  \n",
       "22                  2  \n",
       "23                  2  \n",
       "24                  2  "
      ]
     },
     "execution_count": 9,
     "metadata": {},
     "output_type": "execute_result"
    }
   ],
   "source": [
    "c1[c1['Accuracy'] == c1['Accuracy'].max()]"
   ]
  },
  {
   "cell_type": "markdown",
   "id": "b4a5b997",
   "metadata": {},
   "source": [
    "Here we can see that the **best accuracy** has **alpha = [22, 23, 24]** that actually have the same properties. So if we were to optimize on accuracy, we would select these parameters."
   ]
  },
  {
   "cell_type": "markdown",
   "id": "1084923c",
   "metadata": {},
   "source": [
    "### Sensitivity\n",
    "On the other hand, sometimes we don't want to have false negatives and we want to be as sensitive as possible (and rather mark something as False Positive, instead of creating False Negatives), so we optimize on sensitivity."
   ]
  },
  {
   "cell_type": "code",
   "execution_count": 10,
   "id": "0f1b2572",
   "metadata": {},
   "outputs": [
    {
     "data": {
      "text/html": [
       "<div>\n",
       "<style scoped>\n",
       "    .dataframe tbody tr th:only-of-type {\n",
       "        vertical-align: middle;\n",
       "    }\n",
       "\n",
       "    .dataframe tbody tr th {\n",
       "        vertical-align: top;\n",
       "    }\n",
       "\n",
       "    .dataframe thead th {\n",
       "        text-align: right;\n",
       "    }\n",
       "</style>\n",
       "<table border=\"1\" class=\"dataframe\">\n",
       "  <thead>\n",
       "    <tr style=\"text-align: right;\">\n",
       "      <th></th>\n",
       "      <th>Accuracy</th>\n",
       "      <th>Precision/PPV</th>\n",
       "      <th>Recall/Senitivity/TPR</th>\n",
       "      <th>F1 Score</th>\n",
       "      <th>AUC_ROC</th>\n",
       "      <th>Specificty/TNR</th>\n",
       "      <th>NPV</th>\n",
       "      <th>True Positive</th>\n",
       "      <th>True Negative</th>\n",
       "      <th>False Positive</th>\n",
       "      <th>False Negative</th>\n",
       "    </tr>\n",
       "    <tr>\n",
       "      <th>Alpha</th>\n",
       "      <th></th>\n",
       "      <th></th>\n",
       "      <th></th>\n",
       "      <th></th>\n",
       "      <th></th>\n",
       "      <th></th>\n",
       "      <th></th>\n",
       "      <th></th>\n",
       "      <th></th>\n",
       "      <th></th>\n",
       "      <th></th>\n",
       "    </tr>\n",
       "  </thead>\n",
       "  <tbody>\n",
       "    <tr>\n",
       "      <th>0</th>\n",
       "      <td>0.92</td>\n",
       "      <td>0.862069</td>\n",
       "      <td>1.0</td>\n",
       "      <td>0.925926</td>\n",
       "      <td>0.92</td>\n",
       "      <td>0.84</td>\n",
       "      <td>1.0</td>\n",
       "      <td>50</td>\n",
       "      <td>42</td>\n",
       "      <td>8</td>\n",
       "      <td>0</td>\n",
       "    </tr>\n",
       "    <tr>\n",
       "      <th>1</th>\n",
       "      <td>0.93</td>\n",
       "      <td>0.877193</td>\n",
       "      <td>1.0</td>\n",
       "      <td>0.934579</td>\n",
       "      <td>0.93</td>\n",
       "      <td>0.86</td>\n",
       "      <td>1.0</td>\n",
       "      <td>50</td>\n",
       "      <td>43</td>\n",
       "      <td>7</td>\n",
       "      <td>0</td>\n",
       "    </tr>\n",
       "  </tbody>\n",
       "</table>\n",
       "</div>"
      ],
      "text/plain": [
       "       Accuracy  Precision/PPV  Recall/Senitivity/TPR  F1 Score  AUC_ROC  \\\n",
       "Alpha                                                                      \n",
       "0          0.92       0.862069                    1.0  0.925926     0.92   \n",
       "1          0.93       0.877193                    1.0  0.934579     0.93   \n",
       "\n",
       "       Specificty/TNR  NPV  True Positive  True Negative  False Positive  \\\n",
       "Alpha                                                                      \n",
       "0                0.84  1.0             50             42               8   \n",
       "1                0.86  1.0             50             43               7   \n",
       "\n",
       "       False Negative  \n",
       "Alpha                  \n",
       "0                   0  \n",
       "1                   0  "
      ]
     },
     "execution_count": 10,
     "metadata": {},
     "output_type": "execute_result"
    }
   ],
   "source": [
    "c1[c1['Recall/Senitivity/TPR'] == c1['Recall/Senitivity/TPR'].max()]"
   ]
  },
  {
   "cell_type": "markdown",
   "id": "0c568ad3",
   "metadata": {},
   "source": [
    "Here we can see that the there're two alphas, that have sensitivity 1, meaning that they marked all positive values as positive. However, the alpha = 1 is a bit better, as it has better accuracy, so if we were to optimize for **sensitivity**, we would choose **alpha = 1**."
   ]
  },
  {
   "cell_type": "markdown",
   "id": "3411d0ef",
   "metadata": {},
   "source": [
    "### Specificity"
   ]
  },
  {
   "cell_type": "code",
   "execution_count": 11,
   "id": "e1e7ec10",
   "metadata": {},
   "outputs": [
    {
     "name": "stdout",
     "output_type": "stream",
     "text": [
      "Best Alphas according to True Negative Rate: 12\n"
     ]
    }
   ],
   "source": [
    "tnrs = c1[c1['Specificty/TNR'] == c1['Specificty/TNR'].max()]\n",
    "print(f'Best Alphas according to True Negative Rate: {len(tnrs)}')"
   ]
  },
  {
   "cell_type": "markdown",
   "id": "da6965ba",
   "metadata": {},
   "source": [
    "In terms of True Negative Rate metric, there're many good alpha parameters. Thus, we need to select the best parameter using Accuracy, or any other metric - in our case, all metrics give us the same winner:"
   ]
  },
  {
   "cell_type": "code",
   "execution_count": 12,
   "id": "23e0d235",
   "metadata": {},
   "outputs": [
    {
     "data": {
      "text/html": [
       "<div>\n",
       "<style scoped>\n",
       "    .dataframe tbody tr th:only-of-type {\n",
       "        vertical-align: middle;\n",
       "    }\n",
       "\n",
       "    .dataframe tbody tr th {\n",
       "        vertical-align: top;\n",
       "    }\n",
       "\n",
       "    .dataframe thead th {\n",
       "        text-align: right;\n",
       "    }\n",
       "</style>\n",
       "<table border=\"1\" class=\"dataframe\">\n",
       "  <thead>\n",
       "    <tr style=\"text-align: right;\">\n",
       "      <th></th>\n",
       "      <th>Accuracy</th>\n",
       "      <th>Precision/PPV</th>\n",
       "      <th>Recall/Senitivity/TPR</th>\n",
       "      <th>F1 Score</th>\n",
       "      <th>AUC_ROC</th>\n",
       "      <th>Specificty/TNR</th>\n",
       "      <th>NPV</th>\n",
       "      <th>True Positive</th>\n",
       "      <th>True Negative</th>\n",
       "      <th>False Positive</th>\n",
       "      <th>False Negative</th>\n",
       "    </tr>\n",
       "    <tr>\n",
       "      <th>Alpha</th>\n",
       "      <th></th>\n",
       "      <th></th>\n",
       "      <th></th>\n",
       "      <th></th>\n",
       "      <th></th>\n",
       "      <th></th>\n",
       "      <th></th>\n",
       "      <th></th>\n",
       "      <th></th>\n",
       "      <th></th>\n",
       "      <th></th>\n",
       "    </tr>\n",
       "  </thead>\n",
       "  <tbody>\n",
       "    <tr>\n",
       "      <th>38</th>\n",
       "      <td>0.63</td>\n",
       "      <td>1.0</td>\n",
       "      <td>0.26</td>\n",
       "      <td>0.412698</td>\n",
       "      <td>0.63</td>\n",
       "      <td>1.0</td>\n",
       "      <td>0.574713</td>\n",
       "      <td>13</td>\n",
       "      <td>50</td>\n",
       "      <td>0</td>\n",
       "      <td>37</td>\n",
       "    </tr>\n",
       "  </tbody>\n",
       "</table>\n",
       "</div>"
      ],
      "text/plain": [
       "       Accuracy  Precision/PPV  Recall/Senitivity/TPR  F1 Score  AUC_ROC  \\\n",
       "Alpha                                                                      \n",
       "38         0.63            1.0                   0.26  0.412698     0.63   \n",
       "\n",
       "       Specificty/TNR       NPV  True Positive  True Negative  False Positive  \\\n",
       "Alpha                                                                           \n",
       "38                1.0  0.574713             13             50               0   \n",
       "\n",
       "       False Negative  \n",
       "Alpha                  \n",
       "38                 37  "
      ]
     },
     "execution_count": 12,
     "metadata": {},
     "output_type": "execute_result"
    }
   ],
   "source": [
    "tnrs[tnrs['Accuracy'] == tnrs['Accuracy'].max()]"
   ]
  },
  {
   "cell_type": "markdown",
   "id": "a19de73d",
   "metadata": {},
   "source": [
    "The best alpha parameter when we optimize on **Specificity** (or True Negative Rate) is **alpha = 38**."
   ]
  },
  {
   "cell_type": "markdown",
   "id": "fa9747a5",
   "metadata": {},
   "source": [
    "### Visualisation\n",
    "\n",
    "Let's visualise that on the plot:"
   ]
  },
  {
   "cell_type": "code",
   "execution_count": 13,
   "id": "a5a396da",
   "metadata": {},
   "outputs": [
    {
     "data": {
      "image/png": "[encoded data removed]",
      "text/plain": [
       "<Figure size 1152x720 with 1 Axes>"
      ]
     },
     "metadata": {
      "needs_background": "light"
     },
     "output_type": "display_data"
    }
   ],
   "source": [
    "c1sb = c1.plot(\n",
    "    y=['Accuracy', 'Precision/PPV', 'Recall/Senitivity/TPR', 'Specificty/TNR'], \n",
    "    figsize=(16,10),\n",
    "    ylabel='Value',\n",
    "    xlabel='Alpha',\n",
    "    title='C1'\n",
    ")\n",
    "# accuracy, alpha = 22,23,24, value =c1['Accuracy'].max()\n",
    "c1sb.plot([22,23,24], [c1['Accuracy'].max()]*3, linewidth=5, label='Best Accuracy')\n",
    "# sensitivity, alpha = 1, value c1['Recall/Senitivity/TPR'].max()\n",
    "c1sb.scatter(1, c1['Recall/Senitivity/TPR'].max(), s=100, label='Best Sensitivity')\n",
    "# specificity, alpha = 38, value c1['Specificty/TNR'].max()\n",
    "c1sb.scatter(38, c1['Specificty/TNR'].max(), s = 100, label='Best Specificity')\n",
    "l = c1sb.legend()"
   ]
  },
  {
   "cell_type": "markdown",
   "id": "726b58cc",
   "metadata": {},
   "source": [
    "## Sum up\n",
    "We've found five \"best\" values for parameter *alpha = [1, 22, 23, 24, 38]*. There's no single best solution, it depends on which metric we want to optimize - either *Accuracy* when we want to have as many correct classifications as possible and we don't prefer FP/FN, or *Sensitivity* where we don't want to miss any positive classifications but we're OK with some false positives, or *Specificity* where we're minizing false positives."
   ]
  },
  {
   "cell_type": "markdown",
   "id": "ccecd402",
   "metadata": {},
   "source": [
    "## Top Secret\n",
    "The aim is to find classifier that won't allow anybody else to open a safe with our fingerprint. In this case we don't want to allow False Positives (so no foreign fingerprint is marked as valid)."
   ]
  },
  {
   "cell_type": "code",
   "execution_count": 15,
   "id": "0fed2ed2",
   "metadata": {},
   "outputs": [
    {
     "data": {
      "text/html": [
       "<div>\n",
       "<style scoped>\n",
       "    .dataframe tbody tr th:only-of-type {\n",
       "        vertical-align: middle;\n",
       "    }\n",
       "\n",
       "    .dataframe tbody tr th {\n",
       "        vertical-align: top;\n",
       "    }\n",
       "\n",
       "    .dataframe thead th {\n",
       "        text-align: right;\n",
       "    }\n",
       "</style>\n",
       "<table border=\"1\" class=\"dataframe\">\n",
       "  <thead>\n",
       "    <tr style=\"text-align: right;\">\n",
       "      <th></th>\n",
       "      <th></th>\n",
       "      <th>Accuracy</th>\n",
       "      <th>Precision/PPV</th>\n",
       "      <th>Recall/Senitivity/TPR</th>\n",
       "      <th>F1 Score</th>\n",
       "      <th>AUC_ROC</th>\n",
       "      <th>Specificty/TNR</th>\n",
       "      <th>NPV</th>\n",
       "      <th>True Positive</th>\n",
       "      <th>True Negative</th>\n",
       "      <th>False Positive</th>\n",
       "      <th>False Negative</th>\n",
       "    </tr>\n",
       "    <tr>\n",
       "      <th>Classificator</th>\n",
       "      <th>Alpha</th>\n",
       "      <th></th>\n",
       "      <th></th>\n",
       "      <th></th>\n",
       "      <th></th>\n",
       "      <th></th>\n",
       "      <th></th>\n",
       "      <th></th>\n",
       "      <th></th>\n",
       "      <th></th>\n",
       "      <th></th>\n",
       "      <th></th>\n",
       "    </tr>\n",
       "  </thead>\n",
       "  <tbody>\n",
       "    <tr>\n",
       "      <th>C4</th>\n",
       "      <th>11</th>\n",
       "      <td>0.73</td>\n",
       "      <td>1.0</td>\n",
       "      <td>0.46</td>\n",
       "      <td>0.630137</td>\n",
       "      <td>0.73</td>\n",
       "      <td>1.0</td>\n",
       "      <td>0.649351</td>\n",
       "      <td>23</td>\n",
       "      <td>50</td>\n",
       "      <td>0</td>\n",
       "      <td>27</td>\n",
       "    </tr>\n",
       "  </tbody>\n",
       "</table>\n",
       "</div>"
      ],
      "text/plain": [
       "                     Accuracy  Precision/PPV  Recall/Senitivity/TPR  F1 Score  \\\n",
       "Classificator Alpha                                                             \n",
       "C4            11         0.73            1.0                   0.46  0.630137   \n",
       "\n",
       "                     AUC_ROC  Specificty/TNR       NPV  True Positive  \\\n",
       "Classificator Alpha                                                     \n",
       "C4            11        0.73             1.0  0.649351             23   \n",
       "\n",
       "                     True Negative  False Positive  False Negative  \n",
       "Classificator Alpha                                                 \n",
       "C4            11                50               0              27  "
      ]
     },
     "execution_count": 15,
     "metadata": {},
     "output_type": "execute_result"
    }
   ],
   "source": [
    "# solution for the most secure thingy\n",
    "no_fp = df[df['False Positive'] == df['False Positive'].min()]\n",
    "no_fp[no_fp['Accuracy'] == no_fp['Accuracy'].max()]"
   ]
  },
  {
   "cell_type": "markdown",
   "id": "067c1924",
   "metadata": {},
   "source": [
    "We can see that the the **best classifier**, that does not have False Positives (thus won't allow intruder to unlock the box with documents) and has the best precision is the **C4** with **alpha = 11**."
   ]
  },
  {
   "cell_type": "markdown",
   "id": "dc5f5280",
   "metadata": {},
   "source": [
    "## Safety first\n",
    "The aim here is to create a function that would return True if given classifier is better or worse then the one selected in the previous section."
   ]
  },
  {
   "cell_type": "code",
   "execution_count": 16,
   "id": "ee49b61f",
   "metadata": {},
   "outputs": [
    {
     "name": "stdout",
     "output_type": "stream",
     "text": [
      "In order to be better then C4 with alpha=11, classifier needs to achieve:\n",
      "False Positives: <= 0.0\n",
      "Accuracy: >= 0.73\n"
     ]
    }
   ],
   "source": [
    "# select previous clasifier\n",
    "c4_a11 = df.loc['C4', 11]\n",
    "necessary_fp = c4_a11['False Positive']\n",
    "necessary_accuracy = c4_a11['Accuracy']\n",
    "\n",
    "print('In order to be better then C4 with alpha=11, classifier needs to achieve:')\n",
    "print(f'False Positives: <= {necessary_fp}')\n",
    "print(f'Accuracy: >= {necessary_accuracy}')"
   ]
  },
  {
   "cell_type": "code",
   "execution_count": 17,
   "id": "7067990c",
   "metadata": {},
   "outputs": [],
   "source": [
    "def is_better_then_c4_a11(c6):\n",
    "    def create_pd(alpha):\n",
    "        y_pred = c6[:, alpha]\n",
    "        y_true = y\n",
    "        tn, fp, fn, tp = confusion_matrix(y_true = y_true, y_pred = y_pred).ravel()\n",
    "        accuracy = accuracy_score(y_true = y_true, y_pred = y_pred)\n",
    "        return pd.DataFrame({'False Positive': [fp], 'Accuracy': [accuracy]})\n",
    "\n",
    "    pds = [create_pd(a) for a in range(k)]\n",
    "    df = pd.concat(pds)\n",
    "\n",
    "    fps = df[df['False Positive'] == df['False Positive'].min()]\n",
    "    # when c6 has less false positives then the c4_a11 then it is better right away\n",
    "    if fps['False Positive'].min() < necessary_fp:\n",
    "        return True\n",
    "    # when it has same number of false positives but it has better accuracy, then it is better\n",
    "    elif fps['False Positive'].min() == necessary_fp and fps['Accuracy'].max() > necessary_accuracy:\n",
    "        return True\n",
    "    # otherwise it is worse\n",
    "    else:\n",
    "        return False"
   ]
  },
  {
   "cell_type": "markdown",
   "id": "d0f54613",
   "metadata": {},
   "source": [
    "Let's try this function - in theory all classifiers should return false (if we selected in the previous step the best one."
   ]
  },
  {
   "cell_type": "code",
   "execution_count": 18,
   "id": "7928a9b1",
   "metadata": {},
   "outputs": [
    {
     "name": "stdout",
     "output_type": "stream",
     "text": [
      "Classifiers better then the C4 alpha = 11: 0\n"
     ]
    }
   ],
   "source": [
    "better = np.count_nonzero(np.array([is_better_then_c4_a11(c_data[c, :, :]) for c in range(i)]))\n",
    "print(f'Classifiers better then the C4 alpha = 11: {better}')"
   ]
  },
  {
   "cell_type": "markdown",
   "id": "721def5a",
   "metadata": {},
   "source": [
    "This function seems to be correct and the previous step as well as the function didn't mark any classifier as better then the C4 alpha 11."
   ]
  }
 ],
 "metadata": {
  "kernelspec": {
   "display_name": "Python 3",
   "language": "python",
   "name": "python3"
  },
  "language_info": {
   "codemirror_mode": {
    "name": "ipython",
    "version": 3
   },
   "file_extension": ".py",
   "mimetype": "text/x-python",
   "name": "python",
   "nbconvert_exporter": "python",
   "pygments_lexer": "ipython3",
   "version": "3.9.4"
  }
 },
 "nbformat": 4,
 "nbformat_minor": 5
}
