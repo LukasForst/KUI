{
 "cells": [
  {
   "cell_type": "code",
   "execution_count": 2,
   "id": "53e229d9",
   "metadata": {},
   "outputs": [],
   "source": [
    "import numpy as np\n",
    "import matplotlib.pyplot as plt\n",
    "\n",
    "from PIL import Image, ImageOps\n",
    "import math\n",
    "from sklearn.model_selection import train_test_split\n",
    "from collections import defaultdict\n",
    "\n",
    "np.random.seed(123)"
   ]
  },
  {
   "cell_type": "code",
   "execution_count": 3,
   "id": "cafc3064",
   "metadata": {},
   "outputs": [],
   "source": [
    "#data_root = 'data/train_1000_10'\n",
    "data_root = 'data/train_700_28'\n",
    "#data_root = 'data/train_1000_28'\n",
    "\n",
    "truth_file = f'{data_root}/truth.dsv'"
   ]
  },
  {
   "cell_type": "code",
   "execution_count": 4,
   "id": "669ce33d",
   "metadata": {},
   "outputs": [
    {
     "name": "stdout",
     "output_type": "stream",
     "text": [
      "Labels shape: (700,)\n",
      "Files shape: (700,)\n"
     ]
    }
   ],
   "source": [
    "# load data\n",
    "dataset = np.genfromtxt(truth_file, delimiter=':', dtype=np.dtype('<U12'), encoding='utf-8')\n",
    "files, labels = np.split(dataset, 2, 1)\n",
    "# flatten to a single vector\n",
    "labels = labels.flatten()\n",
    "files = files.flatten()\n",
    "\n",
    "print(f'Labels shape: {labels.shape}')\n",
    "print(f'Files shape: {files.shape}')"
   ]
  },
  {
   "cell_type": "code",
   "execution_count": 5,
   "id": "2fec6627",
   "metadata": {},
   "outputs": [],
   "source": [
    "def load_img(file_name):\n",
    "    # open the image\n",
    "    img = Image.open(file_name)\n",
    "    # convert to grayscale to have a single dimension\n",
    "    gray_scale = ImageOps.grayscale(img)\n",
    "    # convert to numpy\n",
    "    arr = np.asarray(gray_scale, dtype='float64')\n",
    "    # convert to a single vector\n",
    "    return arr.flatten()"
   ]
  },
  {
   "cell_type": "code",
   "execution_count": 6,
   "id": "0dece81c",
   "metadata": {},
   "outputs": [
    {
     "name": "stdout",
     "output_type": "stream",
     "text": [
      "Images shape: (700, 784)\n",
      "Samples: 700x\n",
      "Image size: 28px\n"
     ]
    }
   ],
   "source": [
    "# load image as a single vector\n",
    "images = np.array([load_img(f'{data_root}/{x}') for x in files])\n",
    "\n",
    "print(f'Images shape: {images.shape}')\n",
    "samples, image_pixels = images.shape\n",
    "print(f'Samples: {samples}x')\n",
    "# we assume that the images are squares\n",
    "image_size = int(math.sqrt(image_pixels))\n",
    "print(f'Image size: {image_size}px')"
   ]
  },
  {
   "cell_type": "code",
   "execution_count": 7,
   "id": "e87ba37d",
   "metadata": {},
   "outputs": [
    {
     "data": {
      "image/png": "[encoded data removed]",
      "text/plain": [
       "<Figure size 1080x504 with 10 Axes>"
      ]
     },
     "metadata": {
      "needs_background": "light"
     },
     "output_type": "display_data"
    }
   ],
   "source": [
    "to_plot = 10\n",
    "per_row = 5\n",
    "fig = plt.figure(figsize=(15, 7))\n",
    "for i in range(to_plot):\n",
    "    ax = fig.add_subplot(int(to_plot / per_row), per_row, i+1)\n",
    "\n",
    "    sample_idx = np.random.randint(0, len(images))\n",
    "    img = images[sample_idx]\n",
    "    img_size = int(math.sqrt(img.shape[0]))\n",
    "    \n",
    "    ax.title.set_text(labels[sample_idx])\n",
    "    \n",
    "    plt.imshow(img.reshape((img_size, img_size)), cmap='gray')\n",
    "    \n",
    "plt.show()"
   ]
  },
  {
   "cell_type": "code",
   "execution_count": 17,
   "id": "74b7895d",
   "metadata": {},
   "outputs": [],
   "source": [
    "class Bayes:\n",
    "    \"\"\"\n",
    "    Taking an image as a feature and a true value as a class.\n",
    "\n",
    "    P(class | image) = (P(image | class) * P(class)) / P(image)\n",
    "    \"\"\"\n",
    "\n",
    "    def __init__(self, X_train, y_train):\n",
    "        # X - values, train vector\n",
    "        self.X_train = X_train\n",
    "        # y - labels, train labels\n",
    "        self.y_train = y_train\n",
    "        # find all unique classes\n",
    "        self.classes = np.unique(y_train)\n",
    "        # compute how many samples do we have\n",
    "        self.n_s, self.n_f = X_train.shape\n",
    "        self.n_c = len(self.classes)\n",
    "        # structure for storing features means\n",
    "        self.mean = defaultdict(lambda: np.zeros(self.n_f))\n",
    "        # structure for storing variance of features\n",
    "        self.variance = defaultdict(lambda: np.zeros(self.n_f))\n",
    "        # how probable is the class given the data\n",
    "        self.class_probability = defaultdict(lambda: 0.0)\n",
    "\n",
    "        # this is here because otherwise we divide by zero due to the completely white/black pixels\n",
    "        # so we add variance to all data -- using 10, we still divided by zero,\n",
    "        # 100 was working, but 1000 was giving us best results while training the data\n",
    "        # on provided datasets\n",
    "        self.additional_variance = 1000\n",
    "\n",
    "        self.__train()\n",
    "\n",
    "    def __train(self):\n",
    "        # iterate through all classes and compute means and variances\n",
    "        for c in self.classes:\n",
    "            # get all data with the same class\n",
    "            X_c = self.X_train[self.y_train == c]\n",
    "            # compute probability of a class c\n",
    "            self.class_probability[c] = len(X_c) / len(self.X_train)\n",
    "            # and compute mean and variance\n",
    "            self.mean[c] = X_c.mean(axis=0)\n",
    "            self.variance[c] = X_c.var(axis=0) + self.additional_variance\n",
    "\n",
    "    def predict(self, single_x):\n",
    "        # set default values\n",
    "        mx, probable_c = -math.inf, None\n",
    "        # go through all classes and compute\n",
    "        for c in self.classes:\n",
    "            # compute P(image | class)\n",
    "            # we relax our problem a bit and we assume that the pixels in the image are independent\n",
    "            # so here instead of having a single pixel as a feature, we just use mean and variance of the\n",
    "            # whole image to represent the normal distribution, thus reducing the problem\n",
    "            # here we need to compute density of the normal distribution\n",
    "            dst = 1 / np.sqrt(2 * np.pi * self.variance[c])\n",
    "            es = np.exp(-((single_x - self.mean[c]) ** 2) / (2 * self.variance[c]))\n",
    "            # and now we have P(image | class)\n",
    "            p_image_class = dst * es\n",
    "            # and we compute the final probability -> we use smoothing, because\n",
    "            # currently we're multiplying together potentially very small values\n",
    "            # which is not great with floating point numbers -> however,\n",
    "            # class maximizing P also maximizes log(P) so we can switch to using log probabilities\n",
    "            # another \"hack\" we made here is that we do not add \"+ np.log(self.class_probability[c])\"\n",
    "            # as we assume that all classes have same probability in the dataset (which might or not might be true,\n",
    "            # but it gives us better results on data provided by the teachers)  \n",
    "            p_log = np.sum(np.log(p_image_class))\n",
    "            # select higher probability\n",
    "            if p_log > mx:\n",
    "                mx, probable_c = p_log, c\n",
    "\n",
    "        return probable_c"
   ]
  },
  {
   "cell_type": "code",
   "execution_count": 18,
   "id": "cf060e51",
   "metadata": {},
   "outputs": [
    {
     "name": "stdout",
     "output_type": "stream",
     "text": [
      "X_train shape: (525, 784)\n",
      "y_train shape: (525,)\n",
      "X_test shape: (175, 784)\n",
      "y_test shape: (175,)\n"
     ]
    }
   ],
   "source": [
    "X_train, X_test, y_train, y_test = train_test_split(images, labels)\n",
    "\n",
    "print(f'X_train shape: {X_train.shape}')\n",
    "print(f'y_train shape: {y_train.shape}')\n",
    "print(f'X_test shape: {X_test.shape}')\n",
    "print(f'y_test shape: {y_test.shape}')"
   ]
  },
  {
   "cell_type": "code",
   "execution_count": 19,
   "id": "594c51f8",
   "metadata": {},
   "outputs": [
    {
     "name": "stdout",
     "output_type": "stream",
     "text": [
      "Performance: 0.76\n"
     ]
    }
   ],
   "source": [
    "b = Bayes(X_train, y_train)\n",
    "\n",
    "predictions = np.array([b.predict(x) for x in X_test])\n",
    "matches = len(predictions[predictions == y_test])\n",
    "\n",
    "print(f'Performance: {matches / len(predictions)}')"
   ]
  },
  {
   "cell_type": "code",
   "execution_count": null,
   "id": "299176bb",
   "metadata": {},
   "outputs": [],
   "source": []
  }
 ],
 "metadata": {
  "kernelspec": {
   "display_name": "Python 3",
   "language": "python",
   "name": "python3"
  },
  "language_info": {
   "codemirror_mode": {
    "name": "ipython",
    "version": 3
   },
   "file_extension": ".py",
   "mimetype": "text/x-python",
   "name": "python",
   "nbconvert_exporter": "python",
   "pygments_lexer": "ipython3",
   "version": "3.9.5"
  }
 },
 "nbformat": 4,
 "nbformat_minor": 5
}
