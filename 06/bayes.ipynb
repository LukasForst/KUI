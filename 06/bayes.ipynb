{
 "cells": [
  {
   "cell_type": "code",
   "execution_count": 9,
   "id": "53e229d9",
   "metadata": {},
   "outputs": [],
   "source": [
    "import numpy as np\n",
    "import matplotlib.pyplot as plt\n",
    "\n",
    "from PIL import Image, ImageOps\n",
    "import math\n",
    "from sklearn.model_selection import train_test_split\n",
    "from collections import defaultdict\n",
    "\n",
    "np.random.seed(123)"
   ]
  },
  {
   "cell_type": "code",
   "execution_count": 55,
   "id": "cafc3064",
   "metadata": {},
   "outputs": [],
   "source": [
    "#data_root = 'data/train_1000_10'\n",
    "#data_root = 'data/train_700_28'\n",
    "data_root = 'data/train_1000_28'\n",
    "\n",
    "truth_file = f'{data_root}/truth.dsv'"
   ]
  },
  {
   "cell_type": "code",
   "execution_count": 56,
   "id": "669ce33d",
   "metadata": {},
   "outputs": [
    {
     "name": "stdout",
     "output_type": "stream",
     "text": [
      "Labels shape: (1000,)\n",
      "Files shape: (1000,)\n"
     ]
    }
   ],
   "source": [
    "# load data\n",
    "dataset = np.genfromtxt(truth_file, delimiter=':', dtype=np.dtype('<U12'), encoding='utf-8')\n",
    "files, labels = np.split(dataset, 2, 1)\n",
    "# flatten to a single vector\n",
    "labels = labels.flatten()\n",
    "files = files.flatten()\n",
    "\n",
    "print(f'Labels shape: {labels.shape}')\n",
    "print(f'Files shape: {files.shape}')"
   ]
  },
  {
   "cell_type": "code",
   "execution_count": 57,
   "id": "2fec6627",
   "metadata": {},
   "outputs": [],
   "source": [
    "def load_img(file_name):\n",
    "    # open the image\n",
    "    img = Image.open(file_name)\n",
    "    # convert to grayscale to have a single dimension\n",
    "    gray_scale = ImageOps.grayscale(img)\n",
    "    # convert to numpy\n",
    "    arr = np.asarray(gray_scale, dtype='float64')\n",
    "    # convert to a single vector\n",
    "    return arr.flatten()"
   ]
  },
  {
   "cell_type": "code",
   "execution_count": 58,
   "id": "0dece81c",
   "metadata": {},
   "outputs": [
    {
     "name": "stdout",
     "output_type": "stream",
     "text": [
      "Images shape: (1000, 784)\n",
      "Samples: 1000x\n",
      "Image size: 28px\n"
     ]
    }
   ],
   "source": [
    "# load image as a single vector\n",
    "images = np.array([load_img(f'{data_root}/{x}') for x in files])\n",
    "\n",
    "print(f'Images shape: {images.shape}')\n",
    "samples, image_pixels = images.shape\n",
    "print(f'Samples: {samples}x')\n",
    "# we assume that the images are squares\n",
    "image_size = int(math.sqrt(image_pixels))\n",
    "print(f'Image size: {image_size}px')"
   ]
  },
  {
   "cell_type": "code",
   "execution_count": 59,
   "id": "e87ba37d",
   "metadata": {},
   "outputs": [
    {
     "data": {
      "image/png": "[encoded data removed]",
      "text/plain": [
       "<Figure size 1080x504 with 10 Axes>"
      ]
     },
     "metadata": {
      "needs_background": "light"
     },
     "output_type": "display_data"
    }
   ],
   "source": [
    "to_plot = 10\n",
    "per_row = 5\n",
    "fig = plt.figure(figsize=(15, 7))\n",
    "for i in range(to_plot):\n",
    "    ax = fig.add_subplot(int(to_plot / per_row), per_row, i+1)\n",
    "\n",
    "    sample_idx = np.random.randint(0, len(images))\n",
    "    img = images[sample_idx]\n",
    "    img_size = int(math.sqrt(img.shape[0]))\n",
    "    \n",
    "    ax.title.set_text(labels[sample_idx])\n",
    "    \n",
    "    plt.imshow(img.reshape((img_size, img_size)), cmap='gray')\n",
    "    \n",
    "plt.show()"
   ]
  },
  {
   "cell_type": "code",
   "execution_count": 60,
   "id": "74b7895d",
   "metadata": {},
   "outputs": [],
   "source": [
    "class Bayes:\n",
    "    def __init__(self, X_train, y_train):\n",
    "        self.X_train = X_train\n",
    "        self.y_train = y_train\n",
    "        self.classes = np.unique(y_train)\n",
    "        self.n_s, self.n_f = X_train.shape\n",
    "        self.n_c = len(self.classes)\n",
    "        \n",
    "        self.mean_v = defaultdict(lambda: np.zeros(self.n_f))\n",
    "        self.var_v = defaultdict(lambda: np.zeros(self.n_f))\n",
    "        self.c_prob = defaultdict(lambda: 0.0)\n",
    "        \n",
    "        self.additional_variance = 1000\n",
    "        \n",
    "        self.__train()\n",
    "\n",
    "    def __train(self):\n",
    "        for c in self.classes:\n",
    "            trainX_c = self.X_train[self.y_train == c]\n",
    "            self.c_prob[c] = len(trainX_c) / len(self.X_train)\n",
    "    \n",
    "            self.mean_v[c] = trainX_c.mean(axis=0)\n",
    "            self.var_v[c] = trainX_c.var(axis=0) + self.additional_variance\n",
    "\n",
    "    def predict(self,single_x):\n",
    "        mx = -math.inf\n",
    "        probable_c = None\n",
    "        for c in self.classes:\n",
    "            numerator = np.exp(-( (single_x - self.mean_v[c])**2) / (2 * self.var_v[c]) )\n",
    "            denominator = np.sqrt(2*np.pi*( self.var_v[c] ))\n",
    "            prob_xc = numerator / denominator\n",
    "            \n",
    "            ratio = np.sum(np.log(prob_xc))\n",
    "#             ratio = np.sum(np.log(prob_xc) + np.log(self.c_prob[c]))\n",
    "\n",
    "            ratio = ratio\n",
    "            if ratio > mx:\n",
    "                mx = ratio\n",
    "                probable_c = c\n",
    "\n",
    "        return probable_c"
   ]
  },
  {
   "cell_type": "code",
   "execution_count": 61,
   "id": "cf060e51",
   "metadata": {},
   "outputs": [
    {
     "name": "stdout",
     "output_type": "stream",
     "text": [
      "X_train shape: (750, 784)\n",
      "y_train shape: (750,)\n",
      "X_test shape: (250, 784)\n",
      "y_test shape: (250,)\n"
     ]
    }
   ],
   "source": [
    "X_train, X_test, y_train, y_test = train_test_split(images, labels)\n",
    "\n",
    "print(f'X_train shape: {X_train.shape}')\n",
    "print(f'y_train shape: {y_train.shape}')\n",
    "print(f'X_test shape: {X_test.shape}')\n",
    "print(f'y_test shape: {y_test.shape}')"
   ]
  },
  {
   "cell_type": "code",
   "execution_count": 63,
   "id": "594c51f8",
   "metadata": {},
   "outputs": [
    {
     "name": "stdout",
     "output_type": "stream",
     "text": [
      "Performance: 0.808\n"
     ]
    }
   ],
   "source": [
    "b = Bayes(X_train, y_train)\n",
    "\n",
    "predictions = np.array([b.predict(x) for x in X_test])\n",
    "matches = len(predictions[predictions == y_test])\n",
    "\n",
    "print(f'Performance: {matches / len(predictions)}')"
   ]
  },
  {
   "cell_type": "code",
   "execution_count": null,
   "id": "5b829c49",
   "metadata": {},
   "outputs": [],
   "source": []
  }
 ],
 "metadata": {
  "kernelspec": {
   "display_name": "Python 3",
   "language": "python",
   "name": "python3"
  },
  "language_info": {
   "codemirror_mode": {
    "name": "ipython",
    "version": 3
   },
   "file_extension": ".py",
   "mimetype": "text/x-python",
   "name": "python",
   "nbconvert_exporter": "python",
   "pygments_lexer": "ipython3",
   "version": "3.9.5"
  }
 },
 "nbformat": 4,
 "nbformat_minor": 5
}
