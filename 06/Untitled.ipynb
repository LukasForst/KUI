{
 "cells": [
  {
   "cell_type": "code",
   "execution_count": 2,
   "id": "976bb997",
   "metadata": {},
   "outputs": [],
   "source": [
    "import numpy as np\n",
    "import matplotlib.pyplot as plt\n",
    "\n",
    "from PIL import Image, ImageOps\n",
    "import math\n",
    "\n",
    "from sklearn.model_selection import train_test_split\n",
    "\n",
    "np.random.seed(123)\n",
    "\n",
    "%matplotlib inline"
   ]
  },
  {
   "cell_type": "code",
   "execution_count": 3,
   "id": "ccbea7dc",
   "metadata": {},
   "outputs": [],
   "source": [
    "def load_img(file_name):\n",
    "    # open the image\n",
    "    img = Image.open(f'{data_root}/{file_name}')\n",
    "    # convert to grayscale to have a single dimension\n",
    "    gray_scale = ImageOps.grayscale(img)\n",
    "    # convert to numpy\n",
    "    arr = np.asarray(gray_scale)\n",
    "    # convert to a single vector\n",
    "    arr = arr.flatten()\n",
    "    return arr.astype('float64')"
   ]
  },
  {
   "cell_type": "code",
   "execution_count": null,
   "id": "e1765918",
   "metadata": {},
   "outputs": [],
   "source": []
  }
 ],
 "metadata": {
  "kernelspec": {
   "display_name": "Python 3",
   "language": "python",
   "name": "python3"
  },
  "language_info": {
   "codemirror_mode": {
    "name": "ipython",
    "version": 3
   },
   "file_extension": ".py",
   "mimetype": "text/x-python",
   "name": "python",
   "nbconvert_exporter": "python",
   "pygments_lexer": "ipython3",
   "version": "3.9.5"
  }
 },
 "nbformat": 4,
 "nbformat_minor": 5
}
