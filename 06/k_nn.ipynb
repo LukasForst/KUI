{
 "cells": [
  {
   "cell_type": "code",
   "execution_count": 1,
   "id": "295aaa77",
   "metadata": {},
   "outputs": [],
   "source": [
    "import numpy as np\n",
    "import matplotlib.pyplot as plt\n",
    "\n",
    "from PIL import Image, ImageOps\n",
    "from math import sqrt\n",
    "from sklearn.model_selection import train_test_split\n",
    "\n",
    "np.random.seed(123)\n",
    "\n",
    "%matplotlib inline"
   ]
  },
  {
   "cell_type": "markdown",
   "id": "ef8a1527",
   "metadata": {},
   "source": [
    "Load data"
   ]
  },
  {
   "cell_type": "code",
   "execution_count": 2,
   "id": "fd4c83f3",
   "metadata": {},
   "outputs": [],
   "source": [
    "#data_root = 'data/train_1000_10'\n",
    "#data_root = 'data/train_700_28'\n",
    "data_root = 'data/train_1000_28'\n",
    "\n",
    "truth_file = f'{data_root}/truth.dsv'"
   ]
  },
  {
   "cell_type": "code",
   "execution_count": 3,
   "id": "5f5cdce6",
   "metadata": {},
   "outputs": [
    {
     "name": "stdout",
     "output_type": "stream",
     "text": [
      "Labels shape: (1000,)\n",
      "Files shape: (1000,)\n"
     ]
    }
   ],
   "source": [
    "# load data\n",
    "dataset = np.genfromtxt(truth_file, delimiter=':', dtype=np.dtype('<U12'), encoding='utf-8')\n",
    "files, labels = np.split(dataset, 2, 1)\n",
    "# flatten to a single vector\n",
    "labels = labels.flatten()\n",
    "files = files.flatten()\n",
    "\n",
    "print(f'Labels shape: {labels.shape}')\n",
    "print(f'Files shape: {files.shape}')"
   ]
  },
  {
   "cell_type": "code",
   "execution_count": 4,
   "id": "420775ce",
   "metadata": {},
   "outputs": [],
   "source": [
    "def load_img(file_name):\n",
    "    # open the image\n",
    "    img = Image.open(file_name)\n",
    "    # convert to grayscale to have a single dimension\n",
    "    gray_scale = ImageOps.grayscale(img)\n",
    "    # convert to numpy\n",
    "    arr = np.asarray(gray_scale, dtype='float64')\n",
    "    # convert to a single vector\n",
    "    return arr.flatten()"
   ]
  },
  {
   "cell_type": "code",
   "execution_count": 5,
   "id": "cd1dc99a",
   "metadata": {},
   "outputs": [
    {
     "name": "stdout",
     "output_type": "stream",
     "text": [
      "Images shape: (1000, 784)\n",
      "Samples: 1000x\n",
      "Image size: 28px\n"
     ]
    }
   ],
   "source": [
    "# load image as a single vector\n",
    "images = np.array([load_img(f'{data_root}/{x}') for x in files])\n",
    "\n",
    "print(f'Images shape: {images.shape}')\n",
    "samples, image_pixels = images.shape\n",
    "print(f'Samples: {samples}x')\n",
    "# we assume that the images are squares\n",
    "image_size = int(sqrt(image_pixels))\n",
    "print(f'Image size: {image_size}px')"
   ]
  },
  {
   "cell_type": "code",
   "execution_count": 6,
   "id": "1f1ef1f7",
   "metadata": {},
   "outputs": [
    {
     "data": {
      "image/png": "[encoded data removed]",
      "text/plain": [
       "<Figure size 1080x504 with 10 Axes>"
      ]
     },
     "metadata": {
      "needs_background": "light"
     },
     "output_type": "display_data"
    }
   ],
   "source": [
    "to_plot = 10\n",
    "per_row = 5\n",
    "fig = plt.figure(figsize=(15, 7))\n",
    "for i in range(to_plot):\n",
    "    ax = fig.add_subplot(int(to_plot / per_row), per_row, i+1)\n",
    "\n",
    "    sample_idx = np.random.randint(0, len(images))\n",
    "    img = images[sample_idx]\n",
    "    img_size = int(sqrt(img.shape[0]))\n",
    "    \n",
    "    ax.title.set_text(labels[sample_idx])\n",
    "    \n",
    "    plt.imshow(img.reshape((img_size, img_size)), cmap='gray')\n",
    "    \n",
    "plt.show()"
   ]
  },
  {
   "cell_type": "code",
   "execution_count": 8,
   "id": "3d7ec193",
   "metadata": {},
   "outputs": [],
   "source": [
    "class kNN:\n",
    "    \"\"\"\n",
    "    Classic kNN where as the distance vector is used euclidean distance.\n",
    "    \"\"\"\n",
    "\n",
    "    def __init__(self, values, labels):\n",
    "        self.values = values\n",
    "        self.labels = labels\n",
    "\n",
    "    def __euclidean_distance(self, X):\n",
    "        # get vector of euclidean instances\n",
    "        return np.array([np.sqrt(np.sum((self.values - X[i]) ** 2, axis=1)) for i in range(len(X))])\n",
    "\n",
    "    def predict(self, X, k):\n",
    "        # compute euclid distances from the training data\n",
    "        dists = self.__euclidean_distance(X)\n",
    "        # select K closest data points\n",
    "        knn = np.argsort(dists)[:, :k]\n",
    "        # get the labels for the selected training points\n",
    "        y_knn = self.labels[knn]\n",
    "        # select labels which are most frequent in the neighborhood of the given data\n",
    "        return [max(y_knn[i], key=list(y_knn[i]).count) for i in range(len(X))]"
   ]
  },
  {
   "cell_type": "code",
   "execution_count": 9,
   "id": "1c4e5dff",
   "metadata": {},
   "outputs": [
    {
     "name": "stdout",
     "output_type": "stream",
     "text": [
      "X_train shape: (750, 784)\n",
      "y_train shape: (750,)\n",
      "X_test shape: (250, 784)\n",
      "y_test shape: (250,)\n"
     ]
    }
   ],
   "source": [
    "X_train, X_test, y_train, y_test = train_test_split(images, labels)\n",
    "\n",
    "print(f'X_train shape: {X_train.shape}')\n",
    "print(f'y_train shape: {y_train.shape}')\n",
    "print(f'X_test shape: {X_test.shape}')\n",
    "print(f'y_test shape: {y_test.shape}')"
   ]
  },
  {
   "cell_type": "code",
   "execution_count": 10,
   "id": "a48be2ba",
   "metadata": {},
   "outputs": [
    {
     "data": {
      "text/plain": [
       "<function len(obj, /)>"
      ]
     },
     "execution_count": 10,
     "metadata": {},
     "output_type": "execute_result"
    }
   ],
   "source": [
    "X_train.shape\n",
    "len"
   ]
  },
  {
   "cell_type": "code",
   "execution_count": 11,
   "id": "d8a0f4ce",
   "metadata": {},
   "outputs": [
    {
     "name": "stdout",
     "output_type": "stream",
     "text": [
      "Testing one datapoint, k=1\n",
      "Predicted label: ['7']\n",
      "True label: ['7']\n",
      "\n",
      "Testing one datapoint, k=5\n",
      "Predicted label: ['1']\n",
      "True label: ['1']\n",
      "\n",
      "Testing 10 datapoint, k=1\n",
      "Predicted labels: ['5', '7', '8', '7', '0', '9', '1', '7', '1', '1']\n",
      "True labels: ['5' '7' '3' '7' '0' '9' '1' '7' '1' '1']\n",
      "\n",
      "Testing 10 datapoint, k=4\n",
      "Predicted labels: ['5', '7', '8', '7', '0', '9', '1', '7', '1', '1']\n",
      "True labels: ['5' '7' '3' '7' '0' '9' '1' '7' '1' '1']\n",
      "\n"
     ]
    }
   ],
   "source": [
    "knn = kNN(X_train, y_train)\n",
    "\n",
    "print(\"Testing one datapoint, k=1\")\n",
    "print(f\"Predicted label: {knn.predict(X_test[0:1], k=1)}\")\n",
    "print(f\"True label: {y_test[0:1]}\")\n",
    "print()\n",
    "print(\"Testing one datapoint, k=5\")\n",
    "print(f\"Predicted label: {knn.predict(X_test[20:21], k=5)}\")\n",
    "print(f\"True label: {y_test[20:21]}\")\n",
    "print()\n",
    "print(\"Testing 10 datapoint, k=1\")\n",
    "print(f\"Predicted labels: {knn.predict(X_test[5:15], k=1)}\")\n",
    "print(f\"True labels: {y_test[5:15]}\")\n",
    "print()\n",
    "print(\"Testing 10 datapoint, k=4\")\n",
    "print(f\"Predicted labels: {knn.predict(X_test[5:15], k=5)}\")\n",
    "print(f\"True labels: {y_test[5:15]}\")\n",
    "print()"
   ]
  },
  {
   "cell_type": "code",
   "execution_count": 12,
   "id": "4c7cac9c",
   "metadata": {},
   "outputs": [],
   "source": [
    "def get_precision(predicted, labels):\n",
    "    return np.sum(predicted == labels) / len(predicted) * 100"
   ]
  },
  {
   "cell_type": "code",
   "execution_count": 13,
   "id": "01fbec5c",
   "metadata": {},
   "outputs": [],
   "source": [
    "def evaluate_k(k):\n",
    "    predicted = knn.predict(X_test, k)\n",
    "    print(f\"Test accuracy with k = {k}: {get_precision(predicted, y_test)}\")"
   ]
  },
  {
   "cell_type": "code",
   "execution_count": 14,
   "id": "296f3aed",
   "metadata": {},
   "outputs": [
    {
     "name": "stdout",
     "output_type": "stream",
     "text": [
      "Test accuracy with k = 1: 86.4\n",
      "Test accuracy with k = 2: 86.4\n",
      "Test accuracy with k = 3: 86.4\n",
      "Test accuracy with k = 4: 86.4\n",
      "Test accuracy with k = 5: 86.0\n",
      "Test accuracy with k = 6: 85.6\n",
      "Test accuracy with k = 7: 85.6\n",
      "Test accuracy with k = 8: 85.2\n",
      "Test accuracy with k = 9: 84.8\n"
     ]
    }
   ],
   "source": [
    "for k in range(1, 10):\n",
    "    evaluate_k(k)"
   ]
  },
  {
   "cell_type": "code",
   "execution_count": null,
   "id": "f10b7ec4",
   "metadata": {},
   "outputs": [],
   "source": []
  }
 ],
 "metadata": {
  "kernelspec": {
   "display_name": "Python 3",
   "language": "python",
   "name": "python3"
  },
  "language_info": {
   "codemirror_mode": {
    "name": "ipython",
    "version": 3
   },
   "file_extension": ".py",
   "mimetype": "text/x-python",
   "name": "python",
   "nbconvert_exporter": "python",
   "pygments_lexer": "ipython3",
   "version": "3.9.5"
  }
 },
 "nbformat": 4,
 "nbformat_minor": 5
}
